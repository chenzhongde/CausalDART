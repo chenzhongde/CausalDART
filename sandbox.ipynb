{
 "cells": [
  {
   "cell_type": "code",
   "execution_count": 1,
   "metadata": {},
   "outputs": [],
   "source": [
    "import numpy as np\n",
    "import pandas as pd\n",
    "from matplotlib import pyplot as plt\n",
    "from bartpy.bartpy.sklearnmodel import SklearnModel\n",
    "from tqdm import tqdm\n",
    "\n",
    "from scipy.special import logit, expit\n",
    "from scipy.stats import bernoulli\n",
    "\n",
    "import simulate_data.simulate_data as sd"
   ]
  },
  {
   "cell_type": "code",
   "execution_count": 2,
   "metadata": {},
   "outputs": [],
   "source": [
    "n=250\n",
    "N_replications=1\n",
    "# data\n",
    "data = sd.make_zaidi_data_B(n)\n",
    "Y,W,X,tau,pi = sd.get_data(data,n,1)\n",
    "#X = data[\"Xy\"]\n",
    "Y_i_star = sd.get_Y_i_star(Y,W,pi)\n",
    "y_i_star_min = np.min(Y_i_star)\n",
    "y_i_star_max = np.max(Y_i_star)\n",
    "delta = y_i_star_max - y_i_star_min\n",
    "Y1=data[\"Y1\"]\n",
    "Y0=data[\"Y0\"]\n",
    "#tau = Y1-Y0\n",
    "#h = Y1/pi + Y0/(1-pi)\n",
    "#sigma_true = np.mean(Y_i_star - tau - h*(W-pi))\n",
    "#g_in_bart = (tau-y_i_star_min)/delta -0.5 \n",
    "#h_in_bart = (Y1/pi + Y0/(1-pi))/delta"
   ]
  },
  {
   "cell_type": "code",
   "execution_count": 3,
   "metadata": {},
   "outputs": [],
   "source": [
    "n_chains = 1\n",
    "n_samples=25000\n",
    "n_burn_in=0\n",
    "\n",
    "\n",
    "kwargs = {\n",
    "    \"model\": \"causal_gaussian_mixture\",\n",
    "}"
   ]
  },
  {
   "cell_type": "code",
   "execution_count": 4,
   "metadata": {},
   "outputs": [
    {
     "name": "stdout",
     "output_type": "stream",
     "text": [
      "Causal Gaussian Mixture using Transformed Outcomes...\n"
     ]
    }
   ],
   "source": [
    "model = SklearnModel(\n",
    "    n_samples=n_samples, \n",
    "    n_burn=n_burn_in,\n",
    "    n_trees_h=150,\n",
    "    n_trees_g=150,\n",
    "    alpha = 0.95,\n",
    "    beta = 2,\n",
    "    k=2,\n",
    "    thin=1,\n",
    "    n_chains=n_chains,\n",
    "    n_jobs=1,\n",
    "    store_in_sample_predictions=True,\n",
    "    nomalize_response_bool = False,\n",
    "    **kwargs\n",
    ")"
   ]
  },
  {
   "cell_type": "code",
   "execution_count": 5,
   "metadata": {},
   "outputs": [
    {
     "name": "stderr",
     "output_type": "stream",
     "text": [
      "0it [00:00, ?it/s]\n",
      "  0%|          | 0/25000 [00:00<?, ?it/s]"
     ]
    },
    {
     "name": "stdout",
     "output_type": "stream",
     "text": [
      "\n",
      "Starting burn\n",
      "Starting sampling\n"
     ]
    },
    {
     "name": "stderr",
     "output_type": "stream",
     "text": [
      "100%|██████████| 25000/25000 [1:04:40<00:00,  6.44it/s]\n"
     ]
    },
    {
     "name": "stdout",
     "output_type": "stream",
     "text": [
      "\n"
     ]
    },
    {
     "name": "stderr",
     "output_type": "stream",
     "text": [
      "/Users/omarchavez/opt/anaconda3/lib/python3.8/site-packages/sklearn/base.py:209: FutureWarning: From version 0.24, get_params will raise an AttributeError if a parameter cannot be retrieved as an instance attribute. Previously it would return None.\n",
      "  warnings.warn('From version 0.24, get_params will raise an '\n"
     ]
    },
    {
     "data": {
      "text/plain": [
       "SklearnModel(beta=2, k=2, n_burn=0, n_chains=1, n_jobs=1, n_samples=25000,\n",
       "             n_trees=None, n_trees_g=150, n_trees_h=150,\n",
       "             store_in_sample_predictions=True, thin=1)"
      ]
     },
     "execution_count": 5,
     "metadata": {},
     "output_type": "execute_result"
    }
   ],
   "source": [
    "model.fit_CGM(X, Y_i_star, W, pi)"
   ]
  },
  {
   "cell_type": "code",
   "execution_count": 9,
   "metadata": {},
   "outputs": [
    {
     "name": "stderr",
     "output_type": "stream",
     "text": [
      "100%|██████████| 1/1 [00:00<00:00,  3.60it/s]\n"
     ]
    }
   ],
   "source": [
    "sigma = np.zeros((n_samples, n_chains,N_replications))\n",
    "pred_g = np.zeros((n, n_samples, n_chains, N_replications))\n",
    "pred_h = np.zeros((n, n_samples, n_chains, N_replications))\n",
    "\n",
    "for i in tqdm(range(N_replications)):\n",
    "    \n",
    "    sigma_samples = np.array_split(\n",
    "        [x.sigma.current_value() for x in model.model_samples_cgm], \n",
    "        n_chains\n",
    "    )\n",
    "    \n",
    "    for nc in range(n_chains):\n",
    "        sigma[:,nc,i] = sigma_samples[nc]\n",
    "        pred_g[:,:,nc,i] = np.array(model.extract[nc]['in_sample_predictions_g']).T \n",
    "        pred_h[:,:,nc,i] = np.array(model.extract[nc]['in_sample_predictions_h']).T "
   ]
  },
  {
   "cell_type": "code",
   "execution_count": 13,
   "metadata": {},
   "outputs": [
    {
     "data": {
      "image/png": "[encoded data removed]",
      "text/plain": [
       "<Figure size 1224x288 with 1 Axes>"
      ]
     },
     "metadata": {
      "needs_background": "light"
     },
     "output_type": "display_data"
    }
   ],
   "source": [
    "\n",
    "loaded_g = pred_g\n",
    "loaded_h = pred_h\n",
    "loaded_sigma = sigma\n",
    "\n",
    "LL_s = np.zeros((n_samples,n_chains))\n",
    "\n",
    "for c_i in range(n_chains):\n",
    "    for s_i in range(n_samples):\n",
    "        LL_s[s_i, c_i] = sd.CBARTMM_likelihood(\n",
    "            resp=Y_i_star,\n",
    "            W=W,p=pi,\n",
    "            g=loaded_g[:,s_i,c_i],\n",
    "            h=loaded_h[:,s_i,c_i],\n",
    "            sigma=loaded_sigma[s_i, c_i]\n",
    "        )\n",
    "plt.figure(figsize=(17,4))\n",
    "#plt.title(\"g:\" + str(g_count) + \" h:\" + str(h_count) +\" Mean LL:\" + str(np.mean(LL_s[:,:])))\n",
    "_=plt.plot(LL_s[:,:], alpha = 0.4)\n",
    "_=plt.show()\n"
   ]
  },
  {
   "cell_type": "code",
   "execution_count": 41,
   "metadata": {},
   "outputs": [
    {
     "data": {
      "text/plain": [
       "7.7723793409496515"
      ]
     },
     "execution_count": 41,
     "metadata": {},
     "output_type": "execute_result"
    }
   ],
   "source": [
    "np.mean((np.mean(loaded_g[:,10000:,0,0], axis=1)- tau)**2)"
   ]
  },
  {
   "cell_type": "code",
   "execution_count": 40,
   "metadata": {},
   "outputs": [
    {
     "data": {
      "text/plain": [
       "[<matplotlib.lines.Line2D at 0x7f945fb69be0>]"
      ]
     },
     "execution_count": 40,
     "metadata": {},
     "output_type": "execute_result"
    },
    {
     "data": {
      "image/png": "[encoded data removed]",
      "text/plain": [
       "<Figure size 432x288 with 1 Axes>"
      ]
     },
     "metadata": {
      "needs_background": "light"
     },
     "output_type": "display_data"
    }
   ],
   "source": [
    "h = Y1/pi + Y0/(1-pi)\n",
    "plt.plot(np.mean(loaded_g[:,10000:,0,0], axis=1), tau, '.')\n",
    "plt.plot(tau,tau)"
   ]
  },
  {
   "cell_type": "code",
   "execution_count": 32,
   "metadata": {},
   "outputs": [
    {
     "data": {
      "text/plain": [
       "[<matplotlib.lines.Line2D at 0x7f93e542b070>]"
      ]
     },
     "execution_count": 32,
     "metadata": {},
     "output_type": "execute_result"
    },
    {
     "data": {
      "image/png": "[encoded data removed]",
      "text/plain": [
       "<Figure size 432x288 with 1 Axes>"
      ]
     },
     "metadata": {
      "needs_background": "light"
     },
     "output_type": "display_data"
    }
   ],
   "source": [
    "plt.plot(loaded_sigma[10000:,0,0])"
   ]
  },
  {
   "cell_type": "code",
   "execution_count": 29,
   "metadata": {},
   "outputs": [
    {
     "data": {
      "text/plain": [
       "[<matplotlib.lines.Line2D at 0x7f96807fbd90>]"
      ]
     },
     "execution_count": 29,
     "metadata": {},
     "output_type": "execute_result"
    },
    {
     "data": {
      "image/png": "[encoded data removed]",
      "text/plain": [
       "<Figure size 432x288 with 1 Axes>"
      ]
     },
     "metadata": {
      "needs_background": "light"
     },
     "output_type": "display_data"
    }
   ],
   "source": [
    "plt.plot(model.predict_CATE(), tau, '.')\n",
    "plt.plot(tau,tau)"
   ]
  },
  {
   "cell_type": "code",
   "execution_count": 35,
   "metadata": {},
   "outputs": [
    {
     "data": {
      "text/plain": [
       "-1.485982132611659"
      ]
     },
     "execution_count": 35,
     "metadata": {},
     "output_type": "execute_result"
    }
   ],
   "source": [
    "np.mean(model.predict_CATE(), axis=0)"
   ]
  },
  {
   "cell_type": "code",
   "execution_count": 39,
   "metadata": {},
   "outputs": [
    {
     "data": {
      "text/plain": [
       "array([ 18.31973286, -17.11156746,  -0.64508725,  19.3204635 ,\n",
       "         4.86547376,  -4.5507213 , -38.09006685, -12.57378431,\n",
       "         2.15802679,  20.40486471, -13.6040552 ,   8.17442133,\n",
       "        -8.68514683, -20.36462485, -10.40541542,  11.37074819,\n",
       "       -10.28163598, -12.61800465,   2.95487949,  -4.65644664,\n",
       "        -8.49600559,  -4.87232245, -11.02622655,   4.53892293,\n",
       "         4.09611928,  -6.99124216, -15.02576097, -21.2918759 ,\n",
       "        24.28842528,  21.85024754,   4.07354639,  11.34979111,\n",
       "         6.66523043, -25.11146447, -17.86749494,  -6.13308255,\n",
       "        34.49984909,  26.76470255,  15.23877647,  14.73258576,\n",
       "         1.48651706,  -3.36549919,  14.0424787 ,   8.93387917,\n",
       "        -8.37598104,  -0.74477959, -22.08641796,  11.57551814,\n",
       "        -8.40529113,  -3.25582981, -11.78087803,  -8.92496067,\n",
       "       -13.45102541,  28.91474145, -13.55474808, -19.60842006,\n",
       "        12.98488926, -10.56944148, -11.51331907,   2.20980831,\n",
       "        -5.62177033, -25.87962533,  -8.6995795 ,   7.28936471,\n",
       "        10.91301152,   9.92467646,  -7.51431321,  14.90366569,\n",
       "         0.75074702,  -0.1245423 ,  10.42322572,  -2.52521087,\n",
       "        32.43256051,  -3.0360918 , -25.42075503,   1.02981152,\n",
       "       -22.67289976,   6.46790712,  27.61845663,  14.09916832,\n",
       "         1.25544878, -28.00698936, -14.58346447, -10.02531411,\n",
       "         8.86549369, -23.27427319, -16.38695553,   0.11387928,\n",
       "        10.22202817,   3.60730343,  16.08334471,  -5.84150857,\n",
       "       -35.18856255,  17.94770989,   6.78829805,  13.73951187,\n",
       "        -9.42723821, -16.5455741 ,   6.4831908 ,   8.13874335,\n",
       "         1.79520333,  -8.94868535,   9.64660911,  14.7088171 ,\n",
       "        -5.42504643,  -2.28168901,  -8.59605412, -14.220995  ,\n",
       "         0.49846294,  16.75876658,  11.74501475,   6.7752772 ,\n",
       "        -8.30908451,  -5.09457805,  -4.6042204 ,   5.4479624 ,\n",
       "       -12.01269044, -10.51932681, -26.94265218,  10.80353062,\n",
       "        13.37150433,   2.79901198,  -2.06801871, -10.35585983,\n",
       "        -3.1504432 , -26.2136948 , -32.68323126,  -9.9030386 ,\n",
       "       -11.04251549,   5.31095685,  -6.44013064,  -8.63972185,\n",
       "        23.62456208, -14.69772177, -26.79379041,   1.25038612,\n",
       "       -21.1585441 ,  -2.59605238,  14.51815558,  30.20240585,\n",
       "       -33.69105953,   2.28784585, -13.79144675, -21.5279182 ,\n",
       "       -11.15866241,   1.28349735,  -6.92916131,   1.32296827,\n",
       "         8.73374254,   2.99923749,   9.03779857,  29.3109735 ,\n",
       "         4.07129163, -12.44836938,  -7.19984718,  -6.6915823 ,\n",
       "       -32.35162803,  -9.13736406,  18.06683934,  13.37886781,\n",
       "       -12.4255702 , -38.8160545 ,   2.08215275,  -2.12914265,\n",
       "        30.55359221,  -8.49153219,   7.62829348,  -3.20876892,\n",
       "       -25.68650913,  18.41833073, -20.81458414,   3.57455803,\n",
       "         3.69946971, -13.17075922,   8.71603977,  21.68507931,\n",
       "       -32.75485494,   2.01389379,  -0.26883198,   1.28174985,\n",
       "        -2.03738731,  -6.13308255,   7.41101554,   3.46300411,\n",
       "        -9.5717863 ,   3.24129151,  26.84325208, -29.2768448 ,\n",
       "         4.44103918,   9.19982767,   1.23418428,  -4.82597831,\n",
       "         0.68292966,  -6.4038464 ,  -6.9158547 ,   4.2651345 ,\n",
       "         4.4248837 , -14.41448196,  -7.41688431,  -1.37742805,\n",
       "       -11.26536707,  -7.83828301,   5.77139834, -17.71850371,\n",
       "        -0.84708048,   5.87506286,  11.02952625,  -3.012629  ,\n",
       "         5.0593912 ,  -0.37591381,   4.50932806,   8.19252176,\n",
       "        11.60128321,  17.65787901, -14.58246124,   2.73405442,\n",
       "         6.75518682,   3.46488625,   3.49706226, -11.43405547,\n",
       "         8.7900541 ,  -6.72661203, -31.05788533, -28.03240234,\n",
       "         1.98524384,  14.11868602,  -8.87160413,   9.64228604,\n",
       "        26.02090051,  31.16382561, -23.75211719,  13.05790964,\n",
       "         2.76283585, -12.57877823,   1.87101032,   0.96575063,\n",
       "        -9.19700345,  -0.1455516 , -11.74317006,  -6.33400016,\n",
       "         7.55461848, -11.61049962,  13.98165331,  -9.4933719 ,\n",
       "        25.93350833, -17.46590487, -13.52318222,  -2.09698742,\n",
       "         2.69403084,   2.86394971])"
      ]
     },
     "execution_count": 39,
     "metadata": {},
     "output_type": "execute_result"
    }
   ],
   "source": []
  },
  {
   "cell_type": "code",
   "execution_count": null,
   "metadata": {},
   "outputs": [],
   "source": []
  }
 ],
 "metadata": {
  "kernelspec": {
   "display_name": "Python 3",
   "language": "python",
   "name": "python3"
  },
  "language_info": {
   "codemirror_mode": {
    "name": "ipython",
    "version": 3
   },
   "file_extension": ".py",
   "mimetype": "text/x-python",
   "name": "python",
   "nbconvert_exporter": "python",
   "pygments_lexer": "ipython3",
   "version": "3.8.3"
  }
 },
 "nbformat": 4,
 "nbformat_minor": 4
}

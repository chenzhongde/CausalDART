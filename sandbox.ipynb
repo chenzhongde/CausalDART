{
 "cells": [
  {
   "cell_type": "code",
   "execution_count": 1,
   "metadata": {},
   "outputs": [],
   "source": [
    "import numpy as np\n",
    "import pandas as pd\n",
    "from matplotlib import pyplot as plt\n",
    "from bartpy.bartpy.sklearnmodel import SklearnModel\n",
    "from tqdm import tqdm\n",
    "\n",
    "from scipy.special import logit, expit\n",
    "from scipy.stats import bernoulli\n",
    "\n",
    "import simulate_data.simulate_data as sd"
   ]
  },
  {
   "cell_type": "code",
   "execution_count": 2,
   "metadata": {},
   "outputs": [],
   "source": [
    "n=250\n",
    "N_replications=1\n",
    "# data\n",
    "data = sd.make_zaidi_data_B(n)\n",
    "Y,W,X,tau,pi = sd.get_data(data,n,1)\n",
    "Y_i_star = sd.get_Y_i_star(Y,W,pi)\n",
    "y_i_star_min = np.min(Y_i_star)\n",
    "y_i_star_max = np.max(Y_i_star)\n",
    "delta = y_i_star_max - y_i_star_min\n",
    "Y1=data[\"Y1\"]\n",
    "Y0=data[\"Y0\"]\n",
    "#tau = Y1-Y0\n",
    "#h = Y1/pi + Y0/(1-pi)\n",
    "#sigma_true = np.mean(Y_i_star - tau - h*(W-pi))\n",
    "#g_in_bart = (tau-y_i_star_min)/delta -0.5 \n",
    "#h_in_bart = (Y1/pi + Y0/(1-pi))/delta"
   ]
  },
  {
   "cell_type": "code",
   "execution_count": 3,
   "metadata": {},
   "outputs": [],
   "source": [
    "n_chains = 1\n",
    "n_samples=5\n",
    "n_burn_in=0\n",
    "\n",
    "\n",
    "kwargs = {\n",
    "    \"model\": \"causal_gaussian_mixture\",\n",
    "}"
   ]
  },
  {
   "cell_type": "code",
   "execution_count": 4,
   "metadata": {},
   "outputs": [
    {
     "name": "stdout",
     "output_type": "stream",
     "text": [
      "Causal Gaussian Mixture using Transformed Outcomes...\n"
     ]
    }
   ],
   "source": [
    "model = SklearnModel(\n",
    "    n_samples=n_samples, \n",
    "    n_burn=n_burn_in,\n",
    "    n_trees_h=2,\n",
    "    n_trees_g=3,\n",
    "    alpha = 0.95,\n",
    "    beta = 2,\n",
    "    k=2,\n",
    "    thin=1,\n",
    "    n_chains=n_chains,\n",
    "    n_jobs=1,\n",
    "    store_in_sample_predictions=False,\n",
    "    nomalize_response_bool = False,\n",
    "    **kwargs\n",
    ")"
   ]
  },
  {
   "cell_type": "code",
   "execution_count": 5,
   "metadata": {},
   "outputs": [
    {
     "name": "stderr",
     "output_type": "stream",
     "text": [
      "0it [00:00, ?it/s]\n",
      "100%|██████████| 5/5 [00:00<00:00, 146.81it/s]"
     ]
    },
    {
     "name": "stdout",
     "output_type": "stream",
     "text": [
      "\n",
      "Starting burn\n",
      "Starting sampling\n",
      "\n"
     ]
    },
    {
     "name": "stderr",
     "output_type": "stream",
     "text": [
      "\n",
      "/Users/omarchavez/opt/anaconda3/lib/python3.8/site-packages/sklearn/base.py:209: FutureWarning: From version 0.24, get_params will raise an AttributeError if a parameter cannot be retrieved as an instance attribute. Previously it would return None.\n",
      "  warnings.warn('From version 0.24, get_params will raise an '\n"
     ]
    },
    {
     "data": {
      "text/plain": [
       "SklearnModel(beta=2, k=2, n_burn=0, n_chains=1, n_jobs=1, n_samples=5,\n",
       "             n_trees=None, n_trees_g=3, n_trees_h=2, thin=1)"
      ]
     },
     "execution_count": 5,
     "metadata": {},
     "output_type": "execute_result"
    }
   ],
   "source": [
    "model.fit_CGM(X, Y_i_star, W, pi)"
   ]
  },
  {
   "cell_type": "code",
   "execution_count": null,
   "metadata": {},
   "outputs": [],
   "source": []
  }
 ],
 "metadata": {
  "kernelspec": {
   "display_name": "Python 3",
   "language": "python",
   "name": "python3"
  },
  "language_info": {
   "codemirror_mode": {
    "name": "ipython",
    "version": 3
   },
   "file_extension": ".py",
   "mimetype": "text/x-python",
   "name": "python",
   "nbconvert_exporter": "python",
   "pygments_lexer": "ipython3",
   "version": "3.8.3"
  }
 },
 "nbformat": 4,
 "nbformat_minor": 4
}

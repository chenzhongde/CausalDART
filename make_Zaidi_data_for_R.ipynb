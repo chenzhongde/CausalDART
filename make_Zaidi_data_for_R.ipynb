{
 "cells": [
  {
   "cell_type": "code",
   "execution_count": 31,
   "metadata": {},
   "outputs": [],
   "source": [
    "import simulate_data.simulate_data as sd\n",
    "import numpy as np\n",
    "import pandas as pd"
   ]
  },
  {
   "cell_type": "code",
   "execution_count": 32,
   "metadata": {},
   "outputs": [],
   "source": [
    "n=250\n",
    "data = sd.make_zaidi_data_A()\n",
    "\n",
    "\n",
    "X=data['X']\n",
    "Y=data['Y']\n",
    "W=data['W']\n",
    "pi=data['p']\n",
    "tau=data['tau']\n",
    "Y0=data['Y0']\n",
    "Y1=data['Y1']\n",
    "\n",
    "column_names = ['v'+ str(x) for x in list(range(X.shape[1]))] + ['Y', 'W', 'p', 'tau', 'Y0', 'Y1']\n",
    "temp=np.concatenate(\n",
    "    [X,\n",
    "     Y.reshape(n,1),\n",
    "     pi.reshape(n,1),\n",
    "     W.reshape(n,1),\n",
    "     tau.reshape(n,1),\n",
    "     Y0.reshape(n,1),\n",
    "     Y1.reshape(n,1),\n",
    "    ], \n",
    "    axis=1\n",
    ")\n",
    "pd.DataFrame(temp, columns = column_names).to_csv('zaidi_A.csv',index=False)\n"
   ]
  },
  {
   "cell_type": "code",
   "execution_count": 33,
   "metadata": {},
   "outputs": [],
   "source": [
    "n=250\n",
    "data = sd.make_zaidi_data_B()\n",
    "\n",
    "\n",
    "X=data['X']\n",
    "Y=data['Y']\n",
    "W=data['W']\n",
    "pi=data['p']\n",
    "tau=data['tau']\n",
    "Y0=data['Y0']\n",
    "Y1=data['Y1']\n",
    "\n",
    "column_names = ['v'+ str(x) for x in list(range(X.shape[1]))] + ['Y', 'W', 'p', 'tau', 'Y0', 'Y1']\n",
    "temp=np.concatenate(\n",
    "    [X,\n",
    "     Y.reshape(n,1),\n",
    "     pi.reshape(n,1),\n",
    "     W.reshape(n,1),\n",
    "     tau.reshape(n,1),\n",
    "     Y0.reshape(n,1),\n",
    "     Y1.reshape(n,1),\n",
    "    ], \n",
    "    axis=1\n",
    ")\n",
    "pd.DataFrame(temp, columns = column_names).to_csv('zaidi_B.csv',index=False)\n"
   ]
  },
  {
   "cell_type": "code",
   "execution_count": 26,
   "metadata": {},
   "outputs": [
    {
     "data": {
      "text/plain": [
       "['v0', 'v1', 'a', 'b']"
      ]
     },
     "execution_count": 26,
     "metadata": {},
     "output_type": "execute_result"
    }
   ],
   "source": []
  },
  {
   "cell_type": "code",
   "execution_count": null,
   "metadata": {},
   "outputs": [],
   "source": []
  }
 ],
 "metadata": {
  "kernelspec": {
   "display_name": "Python 3",
   "language": "python",
   "name": "python3"
  },
  "language_info": {
   "codemirror_mode": {
    "name": "ipython",
    "version": 3
   },
   "file_extension": ".py",
   "mimetype": "text/x-python",
   "name": "python",
   "nbconvert_exporter": "python",
   "pygments_lexer": "ipython3",
   "version": "3.8.3"
  }
 },
 "nbformat": 4,
 "nbformat_minor": 4
}

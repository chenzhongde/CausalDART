{
 "cells": [
  {
   "cell_type": "code",
   "execution_count": 1,
   "metadata": {},
   "outputs": [
    {
     "name": "stdout",
     "output_type": "stream",
     "text": [
      "enter bartpy/bartpy/initializers/sklearntreeinitializer.py SklearnTreeInitializer __init__\n",
      "-exit bartpy/bartpy/initializers/sklearntreeinitializer.py SklearnTreeInitializer __init__\n",
      "enter bartpy/bartpy/initializers/sklearntreeinitializer.py SklearnTreeInitializer __init__\n",
      "-exit bartpy/bartpy/initializers/sklearntreeinitializer.py SklearnTreeInitializer __init__\n",
      "enter bartpy/bartpy/samplers/scalar.py NormalScalarSampler __init__\n",
      "-exit bartpy/bartpy/samplers/scalar.py NormalScalarSampler __init__\n",
      "enter bartpy/bartpy/samplers/scalar.py UniformScalarSampler __init__\n",
      "-exit bartpy/bartpy/samplers/scalar.py UniformScalarSampler __init__\n",
      "enter /bartpy/bartpy/samplers/unconstrainedtree/treemutation.py UnconstrainedTreeMutationSampler get_tree_sampler\n",
      "enter bartpy/bartpy/samplers/unconstrainedtree/proposer.py UniformMutationProposer __init__\n",
      "enter bartpy/bartpy/samplers/scalar.py DiscreteSampler __init__\n",
      "-exit bartpy/bartpy/samplers/scalar.py DiscreteSampler __init__\n",
      "-exit bartpy/bartpy/samplers/unconstrainedtree/proposer.py UniformMutationProposer __init__\n",
      "enter bartpy/bartpy/samplers/unconstrainedtree/likihoodratio.py UniformTreeMutationLikihoodRatio __init__\n",
      "-exit bartpy/bartpy/samplers/unconstrainedtree/likihoodratio.py UniformTreeMutationLikihoodRatio __init__\n",
      "enter /bartpy/bartpy/samplers/unconstrainedtree/treemutation.py UnconstrainedTreeMutationSampler __init__\n",
      "-exit /bartpy/bartpy/samplers/unconstrainedtree/treemutation.py UnconstrainedTreeMutationSampler __init__\n",
      "-exit /bartpy/bartpy/samplers/unconstrainedtree/treemutation.py UnconstrainedTreeMutationSampler get_tree_sampler\n"
     ]
    }
   ],
   "source": [
    "import numpy as np\n",
    "import pandas as pd\n",
    "from matplotlib import pyplot as plt\n",
    "from bartpy.bartpy.sklearnmodel import SklearnModel"
   ]
  },
  {
   "cell_type": "code",
   "execution_count": 2,
   "metadata": {},
   "outputs": [
    {
     "data": {
      "text/plain": [
       "Text(0.5, 1.0, 'X v y')"
      ]
     },
     "execution_count": 2,
     "metadata": {},
     "output_type": "execute_result"
    },
    {
     "data": {
      "image/png": "[encoded data removed]",
      "text/plain": [
       "<Figure size 432x288 with 1 Axes>"
      ]
     },
     "metadata": {
      "needs_background": "light"
     },
     "output_type": "display_data"
    }
   ],
   "source": [
    "count = 3000\n",
    "x = np.linspace(0, 5, count)\n",
    "X = pd.DataFrame(x).sample(frac=1.0).values\n",
    "y = np.random.normal(0, 0.1, size=count) + np.sin(X[:, 0])\n",
    "plt.scatter(X[:, 0], y)\n",
    "plt.xlabel(\"x\")\n",
    "plt.ylabel(\"y\")\n",
    "plt.title(\"X v y\")"
   ]
  },
  {
   "cell_type": "code",
   "execution_count": 3,
   "metadata": {},
   "outputs": [
    {
     "name": "stdout",
     "output_type": "stream",
     "text": [
      "enter bartpy/bartpy/sklearnmodel.py SklearnModel __init__\n",
      "Causal Gaussian Mixture using Transformed Outcomes...\n",
      "enter bartpy/bartpy/samplers/leafnode.py LeafNodeSampler __init__\n",
      "-exit bartpy/bartpy/samplers/leafnode.py LeafNodeSampler __init__\n",
      "enter bartpy/bartpy/samplers/schedule.py SampleScheduleCGM __init__\n",
      "-exit bartpy/bartpy/samplers/schedule.py SampleScheduleCGM __init__\n",
      "enter bartpy/bartpy/samplers/modelsampler.py ModelSamplerCGM __init__\n",
      "-exit bartpy/bartpy/samplers/modelsampler.py ModelSamplerCGM __init__\n",
      "-exit bartpy/bartpy/sklearnmodel.py SklearnModel __init__\n"
     ]
    }
   ],
   "source": [
    "kwargs = {\n",
    "    \"model\": \"causal_gaussian_mixture\"\n",
    "}\n",
    "model = SklearnModel(\n",
    "    n_samples=3,#1000, \n",
    "    n_burn=1,#200, \n",
    "    n_trees=1,#100, \n",
    "    n_chains=1,#4,\n",
    "    n_jobs=-1,\n",
    "    store_in_sample_predictions=False,\n",
    "    **kwargs\n",
    ")"
   ]
  },
  {
   "cell_type": "code",
   "execution_count": 4,
   "metadata": {},
   "outputs": [
    {
     "name": "stdout",
     "output_type": "stream",
     "text": [
      "enter bartpy/bartpy/sklearnmodel.py SklearnModel fit_CGM\n",
      "enter bartpy/bartpy/sklearnmodel.py SklearnModel _construct_model_cgm\n",
      "enter bartpy/bartpy/sklearnmodel.py SklearnModel _convert_covariates_to_data_cgm\n",
      "enter bartpy/bartpy/data.py Data __init__\n",
      "enter bartpy/bartpy/data.py Data mask\n",
      "-exit bartpy/bartpy/data.py Data mask\n",
      "enter bartpy/bartpy/data.py CovariateMatrix __init__\n",
      "-exit bartpy/bartpy/data.py CovariateMatrix __init__\n",
      "enter bartpy/bartpy/data.py Target __init__\n",
      "enter bartpy/bartpy/data.py Target normalize_y\n",
      "-exit bartpy/bartpy/data.py Target normalize_y\n",
      "-exit bartpy/bartpy/data.py Target __init__\n",
      "enter bartpy/bartpy/data.py TreatmentAssignment __init__\n",
      "-exit bartpy/bartpy/data.py TreatmentAssignment __init__\n",
      "enter bartpy/bartpy/data.py PropensityScore __init__\n",
      "-exit bartpy/bartpy/data.py PropensityScore __init__\n",
      "-exit bartpy/bartpy/data.py Data __init__\n",
      "-exit bartpy/bartpy/sklearnmodel.py SklearnModel _convert_covariates_to_data_cgm\n",
      "enter bartpy/bartpy/data.py Data y\n",
      "-exit bartpy/bartpy/data.py Data y\n",
      "enter bartpy/bartpy/data.py Target normalizing_scale\n",
      "-exit bartpy/bartpy/data.py Target normalizing_scale\n",
      "enter bartpy/bartpy/sigma.py Sigma __init__\n",
      "-exit bartpy/bartpy/sigma.py Sigma __init__\n",
      "enter bartpy/bartpy/data.py Data y\n",
      "-exit bartpy/bartpy/data.py Data y\n",
      "enter bartpy/bartpy/data.py Target normalizing_scale\n",
      "-exit bartpy/bartpy/data.py Target normalizing_scale\n",
      "enter bartpy/bartpy/sigma.py Sigma __init__\n",
      "-exit bartpy/bartpy/sigma.py Sigma __init__\n",
      "enter bartpy/bartpy/model.py ModelCGM __init__\n",
      "**********************************************\n",
      "in if trees is None\n",
      "enter bartpy/bartpy/model.py ModelCGM initialize_trees_g\n",
      "enter bartpy/bartpy/split.py Split __init__\n",
      "enter bartpy/bartpy/data.py Data X\n",
      "-exit bartpy/bartpy/data.py Data X\n",
      "enter bartpy/bartpy/data.py CovariateMatrix variables\n",
      "-exit bartpy/bartpy/data.py CovariateMatrix variables\n",
      "enter bartpy/bartpy/splitcondition.py CombinedCondition __init__\n",
      "enter bartpy/bartpy/splitcondition.py CombinedVariableCondition __init__\n",
      "-exit bartpy/bartpy/splitcondition.py CombinedVariableCondition __init__\n",
      "-exit bartpy/bartpy/splitcondition.py CombinedCondition __init__\n",
      "-exit bartpy/bartpy/split.py Split __init__\n",
      "enter bartpy/bartpy/node.py LeafNode __init__\n",
      "enter bartpy/bartpy/node.py TreeNode __init__\n",
      "-exit bartpy/bartpy/node.py TreeNode __init__\n",
      "-exit bartpy/bartpy/node.py LeafNode __init__\n",
      "enter bartpy/bartpy/tree.py Tree __init__\n",
      "-exit bartpy/bartpy/tree.py Tree __init__\n",
      "enter bartpy/bartpy/data.py Data y\n",
      "-exit bartpy/bartpy/data.py Data y\n",
      "enter bartpy/bartpy/data.py Target values\n",
      "-exit bartpy/bartpy/data.py Target values\n",
      "enter bartpy/bartpy/tree.py Tree update_y\n",
      "enter bartpy/bartpy/tree.py Tree nodes\n",
      "-exit bartpy/bartpy/tree.py Tree nodes\n",
      "enter bartpy/bartpy/node.py TreeNode update_y\n",
      "enter bartpy/bartpy/node.py TreeNode data\n",
      "-exit bartpy/bartpy/node.py TreeNode data\n",
      "enter bartpy/bartpy/split.py Split data\n",
      "-exit bartpy/bartpy/split.py Split data\n",
      "enter bartpy/bartpy/data.py Data update_y\n",
      "enter bartpy/bartpy/data.py Target update_y\n",
      "-exit bartpy/bartpy/data.py Target update_y\n",
      "-exit bartpy/bartpy/data.py Data update_y\n",
      "enter bartpy/bartpy/node.py TreeNode left_child\n",
      "-exit bartpy/bartpy/node.py TreeNode left_child\n",
      "-exit bartpy/bartpy/node.py TreeNode update_y\n",
      "-exit bartpy/bartpy/tree.py Tree update_y\n",
      "enter bartpy/bartpy/tree.py Tree update_y\n",
      "enter bartpy/bartpy/tree.py Tree nodes\n",
      "-exit bartpy/bartpy/tree.py Tree nodes\n",
      "enter bartpy/bartpy/node.py TreeNode update_y\n",
      "enter bartpy/bartpy/node.py TreeNode data\n",
      "-exit bartpy/bartpy/node.py TreeNode data\n",
      "enter bartpy/bartpy/split.py Split data\n",
      "-exit bartpy/bartpy/split.py Split data\n",
      "enter bartpy/bartpy/data.py Data update_y\n",
      "enter bartpy/bartpy/data.py Target update_y\n",
      "-exit bartpy/bartpy/data.py Target update_y\n",
      "-exit bartpy/bartpy/data.py Data update_y\n",
      "enter bartpy/bartpy/node.py TreeNode left_child\n",
      "-exit bartpy/bartpy/node.py TreeNode left_child\n",
      "-exit bartpy/bartpy/node.py TreeNode update_y\n",
      "-exit bartpy/bartpy/tree.py Tree update_y\n",
      "-exit bartpy/bartpy/model.py ModelCGM initialize_trees_g\n",
      "in if trees is None\n",
      "enter bartpy/bartpy/model.py ModelCGM initialize_trees_h\n",
      "enter bartpy/bartpy/split.py Split __init__\n",
      "enter bartpy/bartpy/data.py Data X\n",
      "-exit bartpy/bartpy/data.py Data X\n",
      "enter bartpy/bartpy/data.py CovariateMatrix variables\n",
      "-exit bartpy/bartpy/data.py CovariateMatrix variables\n",
      "enter bartpy/bartpy/splitcondition.py CombinedCondition __init__\n",
      "enter bartpy/bartpy/splitcondition.py CombinedVariableCondition __init__\n",
      "-exit bartpy/bartpy/splitcondition.py CombinedVariableCondition __init__\n",
      "-exit bartpy/bartpy/splitcondition.py CombinedCondition __init__\n",
      "-exit bartpy/bartpy/split.py Split __init__\n",
      "enter bartpy/bartpy/node.py LeafNode __init__\n",
      "enter bartpy/bartpy/node.py TreeNode __init__\n",
      "-exit bartpy/bartpy/node.py TreeNode __init__\n",
      "-exit bartpy/bartpy/node.py LeafNode __init__\n",
      "enter bartpy/bartpy/tree.py Tree __init__\n",
      "-exit bartpy/bartpy/tree.py Tree __init__\n",
      "enter bartpy/bartpy/data.py Data y\n",
      "-exit bartpy/bartpy/data.py Data y\n",
      "enter bartpy/bartpy/data.py Target values\n",
      "-exit bartpy/bartpy/data.py Target values\n",
      "enter bartpy/bartpy/tree.py Tree update_y\n",
      "enter bartpy/bartpy/tree.py Tree nodes\n",
      "-exit bartpy/bartpy/tree.py Tree nodes\n",
      "enter bartpy/bartpy/node.py TreeNode update_y\n",
      "enter bartpy/bartpy/node.py TreeNode data\n",
      "-exit bartpy/bartpy/node.py TreeNode data\n",
      "enter bartpy/bartpy/split.py Split data\n",
      "-exit bartpy/bartpy/split.py Split data\n",
      "enter bartpy/bartpy/data.py Data update_y\n",
      "enter bartpy/bartpy/data.py Target update_y\n",
      "-exit bartpy/bartpy/data.py Target update_y\n",
      "-exit bartpy/bartpy/data.py Data update_y\n",
      "enter bartpy/bartpy/node.py TreeNode left_child\n",
      "-exit bartpy/bartpy/node.py TreeNode left_child\n",
      "-exit bartpy/bartpy/node.py TreeNode update_y\n",
      "-exit bartpy/bartpy/tree.py Tree update_y\n",
      "enter bartpy/bartpy/tree.py Tree update_y\n",
      "enter bartpy/bartpy/tree.py Tree nodes\n",
      "-exit bartpy/bartpy/tree.py Tree nodes\n",
      "enter bartpy/bartpy/node.py TreeNode update_y\n",
      "enter bartpy/bartpy/node.py TreeNode data\n",
      "-exit bartpy/bartpy/node.py TreeNode data\n",
      "enter bartpy/bartpy/split.py Split data\n",
      "-exit bartpy/bartpy/split.py Split data\n",
      "enter bartpy/bartpy/data.py Data update_y\n",
      "enter bartpy/bartpy/data.py Target update_y\n",
      "-exit bartpy/bartpy/data.py Target update_y\n",
      "-exit bartpy/bartpy/data.py Data update_y\n",
      "enter bartpy/bartpy/node.py TreeNode left_child\n",
      "-exit bartpy/bartpy/node.py TreeNode left_child\n",
      "-exit bartpy/bartpy/node.py TreeNode update_y\n",
      "-exit bartpy/bartpy/tree.py Tree update_y\n",
      "-exit bartpy/bartpy/model.py ModelCGM initialize_trees_h\n",
      "-exit bartpy/bartpy/model.py ModelCGM __init__\n",
      "-exit bartpy/bartpy/sklearnmodel.py SklearnModel _construct_model_cgm\n",
      "enter bartpy/bartpy/sklearnmodel.py SklearnModel f_delayed_chains_cgm\n",
      "enter bartpy/bartpy/sklearnmodel.py SklearnModel f_chains\n",
      "enter bartpy/bartpy/sklearnmodel.py delayed_run_chain_cgm\n",
      "-exit bartpy/bartpy/sklearnmodel.py delayed_run_chain_cgm\n",
      "-exit bartpy/bartpy/sklearnmodel.py SklearnModel f_chains\n",
      "-exit bartpy/bartpy/sklearnmodel.py SklearnModel f_delayed_chains_cgm\n"
     ]
    },
    {
     "ename": "AttributeError",
     "evalue": "'UniformTreeMutationLikihoodRatio' object has no attribute 'log_tree_ratio_cgm_g'",
     "output_type": "error",
     "traceback": [
      "\u001b[0;31m---------------------------------------------------------------------------\u001b[0m",
      "\u001b[0;31m_RemoteTraceback\u001b[0m                          Traceback (most recent call last)",
      "\u001b[0;31m_RemoteTraceback\u001b[0m: \n\"\"\"\nTraceback (most recent call last):\n  File \"/Users/omarchavez/opt/anaconda3/lib/python3.8/site-packages/joblib/externals/loky/process_executor.py\", line 431, in _process_worker\n    r = call_item()\n  File \"/Users/omarchavez/opt/anaconda3/lib/python3.8/site-packages/joblib/externals/loky/process_executor.py\", line 285, in __call__\n    return self.fn(*self.args, **self.kwargs)\n  File \"/Users/omarchavez/opt/anaconda3/lib/python3.8/site-packages/joblib/_parallel_backends.py\", line 595, in __call__\n    return self.func(*args, **kwargs)\n  File \"/Users/omarchavez/opt/anaconda3/lib/python3.8/site-packages/joblib/parallel.py\", line 252, in __call__\n    return [func(*args, **kwargs)\n  File \"/Users/omarchavez/opt/anaconda3/lib/python3.8/site-packages/joblib/parallel.py\", line 252, in <listcomp>\n    return [func(*args, **kwargs)\n  File \"/Users/omarchavez/UT/CausalDART/bartpy/bartpy/sklearnmodel.py\", line 47, in run_chain_cgm\n    output = model.sampler.samples(model.model,\n  File \"/Users/omarchavez/UT/CausalDART/bartpy/bartpy/samplers/modelsampler.py\", line 115, in samples\n    self.step(model, trace_logger)\n  File \"/Users/omarchavez/UT/CausalDART/bartpy/bartpy/samplers/modelsampler.py\", line 94, in step\n    result = step()\n  File \"/Users/omarchavez/UT/CausalDART/bartpy/bartpy/samplers/schedule.py\", line 104, in <lambda>\n    yield \"Tree\", lambda: self.tree_sampler.step_cgm_g(model, tree)\n  File \"/Users/omarchavez/UT/CausalDART/bartpy/bartpy/samplers/unconstrainedtree/treemutation.py\", line 85, in step_cgm_g\n    mutation = self.sample_cgm_g(model, tree)\n  File \"/Users/omarchavez/UT/CausalDART/bartpy/bartpy/samplers/unconstrainedtree/treemutation.py\", line 54, in sample_cgm_g\n    ratio = self.likihood_ratio.log_probability_ratio_cgm_g(model, tree, proposal)\n  File \"/Users/omarchavez/UT/CausalDART/bartpy/bartpy/samplers/treemutation.py\", line 109, in log_probability_ratio_cgm_g\n    output = self.log_transition_ratio(tree, mutation) + self.log_likihood_ratio_cgm_g(model, tree, mutation) + self.log_tree_ratio_cgm_g(model, tree, mutation)\nAttributeError: 'UniformTreeMutationLikihoodRatio' object has no attribute 'log_tree_ratio_cgm_g'\n\"\"\"",
      "\nThe above exception was the direct cause of the following exception:\n",
      "\u001b[0;31mAttributeError\u001b[0m                            Traceback (most recent call last)",
      "\u001b[0;32m<ipython-input-4-c809292255c1>\u001b[0m in \u001b[0;36m<module>\u001b[0;34m\u001b[0m\n\u001b[1;32m      1\u001b[0m \u001b[0mp\u001b[0m \u001b[0;34m=\u001b[0m \u001b[0mnp\u001b[0m\u001b[0;34m.\u001b[0m\u001b[0mrandom\u001b[0m\u001b[0;34m.\u001b[0m\u001b[0muniform\u001b[0m\u001b[0;34m(\u001b[0m\u001b[0mlen\u001b[0m\u001b[0;34m(\u001b[0m\u001b[0my\u001b[0m\u001b[0;34m)\u001b[0m\u001b[0;34m)\u001b[0m\u001b[0;34m\u001b[0m\u001b[0;34m\u001b[0m\u001b[0m\n\u001b[1;32m      2\u001b[0m \u001b[0mW\u001b[0m \u001b[0;34m=\u001b[0m \u001b[0mnp\u001b[0m\u001b[0;34m.\u001b[0m\u001b[0mrandom\u001b[0m\u001b[0;34m.\u001b[0m\u001b[0mbinomial\u001b[0m\u001b[0;34m(\u001b[0m\u001b[0mn\u001b[0m \u001b[0;34m=\u001b[0m\u001b[0;36m1\u001b[0m\u001b[0;34m,\u001b[0m \u001b[0mp\u001b[0m\u001b[0;34m=\u001b[0m\u001b[0;36m.4\u001b[0m\u001b[0;34m,\u001b[0m \u001b[0msize\u001b[0m \u001b[0;34m=\u001b[0m \u001b[0mlen\u001b[0m\u001b[0;34m(\u001b[0m\u001b[0my\u001b[0m\u001b[0;34m)\u001b[0m\u001b[0;34m)\u001b[0m\u001b[0;34m\u001b[0m\u001b[0;34m\u001b[0m\u001b[0m\n\u001b[0;32m----> 3\u001b[0;31m \u001b[0mmodel\u001b[0m\u001b[0;34m.\u001b[0m\u001b[0mfit_CGM\u001b[0m\u001b[0;34m(\u001b[0m\u001b[0mX\u001b[0m\u001b[0;34m,\u001b[0m \u001b[0my\u001b[0m\u001b[0;34m,\u001b[0m \u001b[0mW\u001b[0m\u001b[0;34m,\u001b[0m \u001b[0mp\u001b[0m\u001b[0;34m)\u001b[0m\u001b[0;34m\u001b[0m\u001b[0;34m\u001b[0m\u001b[0m\n\u001b[0m\u001b[1;32m      4\u001b[0m \u001b[0;31m#model.fit(X, y)\u001b[0m\u001b[0;34m\u001b[0m\u001b[0;34m\u001b[0m\u001b[0;34m\u001b[0m\u001b[0m\n",
      "\u001b[0;32m~/UT/CausalDART/bartpy/bartpy/sklearnmodel.py\u001b[0m in \u001b[0;36mfit_CGM\u001b[0;34m(self, X, y, W, p)\u001b[0m\n\u001b[1;32m    236\u001b[0m \u001b[0;34m\u001b[0m\u001b[0m\n\u001b[1;32m    237\u001b[0m         \u001b[0mself\u001b[0m\u001b[0;34m.\u001b[0m\u001b[0mmodel\u001b[0m \u001b[0;34m=\u001b[0m \u001b[0mself\u001b[0m\u001b[0;34m.\u001b[0m\u001b[0m_construct_model_cgm\u001b[0m\u001b[0;34m(\u001b[0m\u001b[0mX\u001b[0m\u001b[0;34m,\u001b[0m \u001b[0my\u001b[0m\u001b[0;34m,\u001b[0m \u001b[0mW\u001b[0m\u001b[0;34m,\u001b[0m \u001b[0mp\u001b[0m\u001b[0;34m)\u001b[0m \u001b[0;31m#this will need to be self._construct_model_cgm(X,y,p)\u001b[0m\u001b[0;34m\u001b[0m\u001b[0;34m\u001b[0m\u001b[0m\n\u001b[0;32m--> 238\u001b[0;31m         \u001b[0mself\u001b[0m\u001b[0;34m.\u001b[0m\u001b[0mextract\u001b[0m \u001b[0;34m=\u001b[0m \u001b[0mParallel\u001b[0m\u001b[0;34m(\u001b[0m\u001b[0mn_jobs\u001b[0m\u001b[0;34m=\u001b[0m\u001b[0mself\u001b[0m\u001b[0;34m.\u001b[0m\u001b[0mn_jobs\u001b[0m\u001b[0;34m)\u001b[0m\u001b[0;34m(\u001b[0m\u001b[0mself\u001b[0m\u001b[0;34m.\u001b[0m\u001b[0mf_delayed_chains_cgm\u001b[0m\u001b[0;34m(\u001b[0m\u001b[0mX\u001b[0m\u001b[0;34m,\u001b[0m \u001b[0my\u001b[0m\u001b[0;34m,\u001b[0m \u001b[0mW\u001b[0m\u001b[0;34m,\u001b[0m \u001b[0mp\u001b[0m\u001b[0;34m)\u001b[0m\u001b[0;34m)\u001b[0m\u001b[0;34m\u001b[0m\u001b[0;34m\u001b[0m\u001b[0m\n\u001b[0m\u001b[1;32m    239\u001b[0m         \u001b[0mself\u001b[0m\u001b[0;34m.\u001b[0m\u001b[0mcombined_chains\u001b[0m \u001b[0;34m=\u001b[0m \u001b[0mself\u001b[0m\u001b[0;34m.\u001b[0m\u001b[0m_combine_chains\u001b[0m\u001b[0;34m(\u001b[0m\u001b[0mself\u001b[0m\u001b[0;34m.\u001b[0m\u001b[0mextract\u001b[0m\u001b[0;34m)\u001b[0m\u001b[0;34m\u001b[0m\u001b[0;34m\u001b[0m\u001b[0m\n\u001b[1;32m    240\u001b[0m         \u001b[0mself\u001b[0m\u001b[0;34m.\u001b[0m\u001b[0m_model_samples_cgm\u001b[0m\u001b[0;34m,\u001b[0m \u001b[0mself\u001b[0m\u001b[0;34m.\u001b[0m\u001b[0m_prediction_samples\u001b[0m \u001b[0;34m=\u001b[0m \u001b[0mself\u001b[0m\u001b[0;34m.\u001b[0m\u001b[0mcombined_chains\u001b[0m\u001b[0;34m[\u001b[0m\u001b[0;34m\"model\"\u001b[0m\u001b[0;34m]\u001b[0m\u001b[0;34m,\u001b[0m \u001b[0mself\u001b[0m\u001b[0;34m.\u001b[0m\u001b[0mcombined_chains\u001b[0m\u001b[0;34m[\u001b[0m\u001b[0;34m\"in_sample_predictions\"\u001b[0m\u001b[0;34m]\u001b[0m\u001b[0;34m\u001b[0m\u001b[0;34m\u001b[0m\u001b[0m\n",
      "\u001b[0;32m~/opt/anaconda3/lib/python3.8/site-packages/joblib/parallel.py\u001b[0m in \u001b[0;36m__call__\u001b[0;34m(self, iterable)\u001b[0m\n\u001b[1;32m   1040\u001b[0m \u001b[0;34m\u001b[0m\u001b[0m\n\u001b[1;32m   1041\u001b[0m             \u001b[0;32mwith\u001b[0m \u001b[0mself\u001b[0m\u001b[0;34m.\u001b[0m\u001b[0m_backend\u001b[0m\u001b[0;34m.\u001b[0m\u001b[0mretrieval_context\u001b[0m\u001b[0;34m(\u001b[0m\u001b[0;34m)\u001b[0m\u001b[0;34m:\u001b[0m\u001b[0;34m\u001b[0m\u001b[0;34m\u001b[0m\u001b[0m\n\u001b[0;32m-> 1042\u001b[0;31m                 \u001b[0mself\u001b[0m\u001b[0;34m.\u001b[0m\u001b[0mretrieve\u001b[0m\u001b[0;34m(\u001b[0m\u001b[0;34m)\u001b[0m\u001b[0;34m\u001b[0m\u001b[0;34m\u001b[0m\u001b[0m\n\u001b[0m\u001b[1;32m   1043\u001b[0m             \u001b[0;31m# Make sure that we get a last message telling us we are done\u001b[0m\u001b[0;34m\u001b[0m\u001b[0;34m\u001b[0m\u001b[0;34m\u001b[0m\u001b[0m\n\u001b[1;32m   1044\u001b[0m             \u001b[0melapsed_time\u001b[0m \u001b[0;34m=\u001b[0m \u001b[0mtime\u001b[0m\u001b[0;34m.\u001b[0m\u001b[0mtime\u001b[0m\u001b[0;34m(\u001b[0m\u001b[0;34m)\u001b[0m \u001b[0;34m-\u001b[0m \u001b[0mself\u001b[0m\u001b[0;34m.\u001b[0m\u001b[0m_start_time\u001b[0m\u001b[0;34m\u001b[0m\u001b[0;34m\u001b[0m\u001b[0m\n",
      "\u001b[0;32m~/opt/anaconda3/lib/python3.8/site-packages/joblib/parallel.py\u001b[0m in \u001b[0;36mretrieve\u001b[0;34m(self)\u001b[0m\n\u001b[1;32m    919\u001b[0m             \u001b[0;32mtry\u001b[0m\u001b[0;34m:\u001b[0m\u001b[0;34m\u001b[0m\u001b[0;34m\u001b[0m\u001b[0m\n\u001b[1;32m    920\u001b[0m                 \u001b[0;32mif\u001b[0m \u001b[0mgetattr\u001b[0m\u001b[0;34m(\u001b[0m\u001b[0mself\u001b[0m\u001b[0;34m.\u001b[0m\u001b[0m_backend\u001b[0m\u001b[0;34m,\u001b[0m \u001b[0;34m'supports_timeout'\u001b[0m\u001b[0;34m,\u001b[0m \u001b[0;32mFalse\u001b[0m\u001b[0;34m)\u001b[0m\u001b[0;34m:\u001b[0m\u001b[0;34m\u001b[0m\u001b[0;34m\u001b[0m\u001b[0m\n\u001b[0;32m--> 921\u001b[0;31m                     \u001b[0mself\u001b[0m\u001b[0;34m.\u001b[0m\u001b[0m_output\u001b[0m\u001b[0;34m.\u001b[0m\u001b[0mextend\u001b[0m\u001b[0;34m(\u001b[0m\u001b[0mjob\u001b[0m\u001b[0;34m.\u001b[0m\u001b[0mget\u001b[0m\u001b[0;34m(\u001b[0m\u001b[0mtimeout\u001b[0m\u001b[0;34m=\u001b[0m\u001b[0mself\u001b[0m\u001b[0;34m.\u001b[0m\u001b[0mtimeout\u001b[0m\u001b[0;34m)\u001b[0m\u001b[0;34m)\u001b[0m\u001b[0;34m\u001b[0m\u001b[0;34m\u001b[0m\u001b[0m\n\u001b[0m\u001b[1;32m    922\u001b[0m                 \u001b[0;32melse\u001b[0m\u001b[0;34m:\u001b[0m\u001b[0;34m\u001b[0m\u001b[0;34m\u001b[0m\u001b[0m\n\u001b[1;32m    923\u001b[0m                     \u001b[0mself\u001b[0m\u001b[0;34m.\u001b[0m\u001b[0m_output\u001b[0m\u001b[0;34m.\u001b[0m\u001b[0mextend\u001b[0m\u001b[0;34m(\u001b[0m\u001b[0mjob\u001b[0m\u001b[0;34m.\u001b[0m\u001b[0mget\u001b[0m\u001b[0;34m(\u001b[0m\u001b[0;34m)\u001b[0m\u001b[0;34m)\u001b[0m\u001b[0;34m\u001b[0m\u001b[0;34m\u001b[0m\u001b[0m\n",
      "\u001b[0;32m~/opt/anaconda3/lib/python3.8/site-packages/joblib/_parallel_backends.py\u001b[0m in \u001b[0;36mwrap_future_result\u001b[0;34m(future, timeout)\u001b[0m\n\u001b[1;32m    540\u001b[0m         AsyncResults.get from multiprocessing.\"\"\"\n\u001b[1;32m    541\u001b[0m         \u001b[0;32mtry\u001b[0m\u001b[0;34m:\u001b[0m\u001b[0;34m\u001b[0m\u001b[0;34m\u001b[0m\u001b[0m\n\u001b[0;32m--> 542\u001b[0;31m             \u001b[0;32mreturn\u001b[0m \u001b[0mfuture\u001b[0m\u001b[0;34m.\u001b[0m\u001b[0mresult\u001b[0m\u001b[0;34m(\u001b[0m\u001b[0mtimeout\u001b[0m\u001b[0;34m=\u001b[0m\u001b[0mtimeout\u001b[0m\u001b[0;34m)\u001b[0m\u001b[0;34m\u001b[0m\u001b[0;34m\u001b[0m\u001b[0m\n\u001b[0m\u001b[1;32m    543\u001b[0m         \u001b[0;32mexcept\u001b[0m \u001b[0mCfTimeoutError\u001b[0m \u001b[0;32mas\u001b[0m \u001b[0me\u001b[0m\u001b[0;34m:\u001b[0m\u001b[0;34m\u001b[0m\u001b[0;34m\u001b[0m\u001b[0m\n\u001b[1;32m    544\u001b[0m             \u001b[0;32mraise\u001b[0m \u001b[0mTimeoutError\u001b[0m \u001b[0;32mfrom\u001b[0m \u001b[0me\u001b[0m\u001b[0;34m\u001b[0m\u001b[0;34m\u001b[0m\u001b[0m\n",
      "\u001b[0;32m~/opt/anaconda3/lib/python3.8/concurrent/futures/_base.py\u001b[0m in \u001b[0;36mresult\u001b[0;34m(self, timeout)\u001b[0m\n\u001b[1;32m    437\u001b[0m                 \u001b[0;32mraise\u001b[0m \u001b[0mCancelledError\u001b[0m\u001b[0;34m(\u001b[0m\u001b[0;34m)\u001b[0m\u001b[0;34m\u001b[0m\u001b[0;34m\u001b[0m\u001b[0m\n\u001b[1;32m    438\u001b[0m             \u001b[0;32melif\u001b[0m \u001b[0mself\u001b[0m\u001b[0;34m.\u001b[0m\u001b[0m_state\u001b[0m \u001b[0;34m==\u001b[0m \u001b[0mFINISHED\u001b[0m\u001b[0;34m:\u001b[0m\u001b[0;34m\u001b[0m\u001b[0;34m\u001b[0m\u001b[0m\n\u001b[0;32m--> 439\u001b[0;31m                 \u001b[0;32mreturn\u001b[0m \u001b[0mself\u001b[0m\u001b[0;34m.\u001b[0m\u001b[0m__get_result\u001b[0m\u001b[0;34m(\u001b[0m\u001b[0;34m)\u001b[0m\u001b[0;34m\u001b[0m\u001b[0;34m\u001b[0m\u001b[0m\n\u001b[0m\u001b[1;32m    440\u001b[0m             \u001b[0;32melse\u001b[0m\u001b[0;34m:\u001b[0m\u001b[0;34m\u001b[0m\u001b[0;34m\u001b[0m\u001b[0m\n\u001b[1;32m    441\u001b[0m                 \u001b[0;32mraise\u001b[0m \u001b[0mTimeoutError\u001b[0m\u001b[0;34m(\u001b[0m\u001b[0;34m)\u001b[0m\u001b[0;34m\u001b[0m\u001b[0;34m\u001b[0m\u001b[0m\n",
      "\u001b[0;32m~/opt/anaconda3/lib/python3.8/concurrent/futures/_base.py\u001b[0m in \u001b[0;36m__get_result\u001b[0;34m(self)\u001b[0m\n\u001b[1;32m    386\u001b[0m     \u001b[0;32mdef\u001b[0m \u001b[0m__get_result\u001b[0m\u001b[0;34m(\u001b[0m\u001b[0mself\u001b[0m\u001b[0;34m)\u001b[0m\u001b[0;34m:\u001b[0m\u001b[0;34m\u001b[0m\u001b[0;34m\u001b[0m\u001b[0m\n\u001b[1;32m    387\u001b[0m         \u001b[0;32mif\u001b[0m \u001b[0mself\u001b[0m\u001b[0;34m.\u001b[0m\u001b[0m_exception\u001b[0m\u001b[0;34m:\u001b[0m\u001b[0;34m\u001b[0m\u001b[0;34m\u001b[0m\u001b[0m\n\u001b[0;32m--> 388\u001b[0;31m             \u001b[0;32mraise\u001b[0m \u001b[0mself\u001b[0m\u001b[0;34m.\u001b[0m\u001b[0m_exception\u001b[0m\u001b[0;34m\u001b[0m\u001b[0;34m\u001b[0m\u001b[0m\n\u001b[0m\u001b[1;32m    389\u001b[0m         \u001b[0;32melse\u001b[0m\u001b[0;34m:\u001b[0m\u001b[0;34m\u001b[0m\u001b[0;34m\u001b[0m\u001b[0m\n\u001b[1;32m    390\u001b[0m             \u001b[0;32mreturn\u001b[0m \u001b[0mself\u001b[0m\u001b[0;34m.\u001b[0m\u001b[0m_result\u001b[0m\u001b[0;34m\u001b[0m\u001b[0;34m\u001b[0m\u001b[0m\n",
      "\u001b[0;31mAttributeError\u001b[0m: 'UniformTreeMutationLikihoodRatio' object has no attribute 'log_tree_ratio_cgm_g'"
     ]
    }
   ],
   "source": [
    "p = np.random.uniform(len(y))\n",
    "W = np.random.binomial(n =1, p=.4, size = len(y))\n",
    "model.fit_CGM(X, y, W, p)\n",
    "#model.fit(X, y)"
   ]
  },
  {
   "cell_type": "code",
   "execution_count": null,
   "metadata": {},
   "outputs": [],
   "source": [
    "pred = model.predict_cgm(X)\n",
    "#score = model.score(X, y)"
   ]
  },
  {
   "cell_type": "code",
   "execution_count": 6,
   "metadata": {},
   "outputs": [
    {
     "data": {
      "text/plain": [
       "[<matplotlib.lines.Line2D at 0x7f82a8ff56a0>]"
      ]
     },
     "execution_count": 6,
     "metadata": {},
     "output_type": "execute_result"
    },
    {
     "data": {
      "image/png": "[encoded data removed]",
      "text/plain": [
       "<Figure size 432x288 with 1 Axes>"
      ]
     },
     "metadata": {
      "needs_background": "light"
     },
     "output_type": "display_data"
    }
   ],
   "source": [
    "plt.plot(X, pred, '.')"
   ]
  },
  {
   "cell_type": "markdown",
   "metadata": {},
   "source": [
    "Will probably need to add methods for h(x) and g(x)"
   ]
  },
  {
   "cell_type": "code",
   "execution_count": 5,
   "metadata": {},
   "outputs": [
    {
     "ename": "SyntaxError",
     "evalue": "invalid syntax (<ipython-input-5-1930e2c22f17>, line 1)",
     "output_type": "error",
     "traceback": [
      "\u001b[0;36m  File \u001b[0;32m\"<ipython-input-5-1930e2c22f17>\"\u001b[0;36m, line \u001b[0;32m1\u001b[0m\n\u001b[0;31m    bartpy/bartpy/samplers/unconstrainedtree/likihoodratio.py log_grow_ratio\u001b[0m\n\u001b[0m                                                              ^\u001b[0m\n\u001b[0;31mSyntaxError\u001b[0m\u001b[0;31m:\u001b[0m invalid syntax\n"
     ]
    }
   ],
   "source": [
    "bartpy/bartpy/samplers/unconstrainedtree/likihoodratio.py log_grow_ratio\n",
    "bartpy/bartpy/samplers/unconstrainedtree/likihoodratio.py UniformTreeMutationLikihoodRatio log_likihood_ratio_grow\n",
    "bartpy/bartpy/samplers/unconstrainedtree/likihoodratio.py UniformTreeMutationLikihoodRatio log_likihood_ratio_prune\n",
    "bartpy/bartpy/samplers/treemutation.py TreeMutationLikihoodRatio log_probability_ratio"
   ]
  },
  {
   "cell_type": "code",
   "execution_count": null,
   "metadata": {},
   "outputs": [],
   "source": [
    "File \"/Users/omarchavez/UT/CausalDART/bartpy/bartpy/sklearnmodel.py\", \n",
    "line 47, in run_chain_cgm\n",
    "    output = model.sampler.samples(model.model,\n",
    "                                   \n",
    "File \"/Users/omarchavez/UT/CausalDART/bartpy/bartpy/samplers/modelsampler.py\", \n",
    "line 115, in samples\n",
    "    self.step(model, trace_logger)\n",
    "                                   \n",
    "File \"/Users/omarchavez/UT/CausalDART/bartpy/bartpy/samplers/modelsampler.py\", \n",
    "line 94, in step\n",
    "    result = step()\n",
    "                                   \n",
    "File \"/Users/omarchavez/UT/CausalDART/bartpy/bartpy/samplers/schedule.py\", \n",
    "line 104, in <lambda>\n",
    "    yield \"Tree\", lambda: self.tree_sampler.step(model, tree)\n",
    "                                   \n",
    "File \"/Users/omarchavez/UT/CausalDART/bartpy/bartpy/samplers/unconstrainedtree/treemutation.py\", \n",
    "line 54, in step #  in function model is of type Model we need ModelCGM\n",
    "    mutation = self.sample(model, tree) \n",
    "                                   \n",
    "File \"/Users/omarchavez/UT/CausalDART/bartpy/bartpy/samplers/unconstrainedtree/treemutation.py\", \n",
    "line 43, in sample # model is of type Model we need ModelCGM\n",
    "    ratio = self.likihood_ratio.log_probability_ratio(model, tree, proposal)\n",
    "    \n",
    "                                   \n",
    "File \"/Users/omarchavez/UT/CausalDART/bartpy/bartpy/samplers/treemutation.py\", \n",
    "line 84, in log_probability_ratio # in function model is of type Model we need ModelCGM\n",
    "    output = self.log_transition_ratio(tree, mutation) + \n",
    "                self.log_likihood_ratio(model, tree, mutation) + \n",
    "                self.log_tree_ratio(model, tree, mutation) \n",
    "    \n",
    "                                   \n",
    "File \"/Users/omarchavez/UT/CausalDART/bartpy/bartpy/samplers/unconstrainedtree/likihoodratio.py\", \n",
    "line 81, in log_likihood_ratio # in function model is of type Model we need ModelCGM\n",
    "    output = self.log_likihood_ratio_grow(model, proposal)\n",
    "                                   \n",
    "File \"/Users/omarchavez/UT/CausalDART/bartpy/bartpy/samplers/unconstrainedtree/likihoodratio.py\", \n",
    "line 96, in log_likihood_ratio_grow # in function model is of type Model we need ModelCGM\n",
    "    output = log_grow_ratio(\n",
    "        proposal.existing_node, \n",
    "        proposal.updated_node.left_child, \n",
    "        proposal.updated_node.right_child, \n",
    "        model.sigma, model.sigma_m)\n",
    "\n",
    "AttributeError: 'ModelCGM' object has no attribute 'sigma'"
   ]
  },
  {
   "cell_type": "code",
   "execution_count": null,
   "metadata": {},
   "outputs": [],
   "source": []
  },
  {
   "cell_type": "code",
   "execution_count": 25,
   "metadata": {},
   "outputs": [],
   "source": []
  },
  {
   "cell_type": "code",
   "execution_count": 26,
   "metadata": {},
   "outputs": [],
   "source": []
  },
  {
   "cell_type": "code",
   "execution_count": 27,
   "metadata": {},
   "outputs": [],
   "source": []
  },
  {
   "cell_type": "code",
   "execution_count": 28,
   "metadata": {},
   "outputs": [],
   "source": []
  },
  {
   "cell_type": "code",
   "execution_count": null,
   "metadata": {},
   "outputs": [],
   "source": []
  }
 ],
 "metadata": {
  "kernelspec": {
   "display_name": "Python 3",
   "language": "python",
   "name": "python3"
  },
  "language_info": {
   "codemirror_mode": {
    "name": "ipython",
    "version": 3
   },
   "file_extension": ".py",
   "mimetype": "text/x-python",
   "name": "python",
   "nbconvert_exporter": "python",
   "pygments_lexer": "ipython3",
   "version": "3.8.3"
  }
 },
 "nbformat": 4,
 "nbformat_minor": 4
}
